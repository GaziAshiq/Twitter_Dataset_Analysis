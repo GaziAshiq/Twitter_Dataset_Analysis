{
 "cells": [
  {
   "cell_type": "code",
   "execution_count": 1,
   "metadata": {
    "collapsed": true,
    "ExecuteTime": {
     "end_time": "2023-05-27T21:50:44.445404500Z",
     "start_time": "2023-05-27T21:50:43.399922Z"
    }
   },
   "outputs": [],
   "source": [
    "import nltk\n",
    "from nltk.sentiment import SentimentIntensityAnalyzer"
   ]
  },
  {
   "cell_type": "code",
   "execution_count": 2,
   "outputs": [
    {
     "name": "stderr",
     "output_type": "stream",
     "text": [
      "[nltk_data] Downloading package vader_lexicon to\n",
      "[nltk_data]     C:\\Users\\gazia\\AppData\\Roaming\\nltk_data...\n"
     ]
    },
    {
     "data": {
      "text/plain": "True"
     },
     "execution_count": 2,
     "metadata": {},
     "output_type": "execute_result"
    }
   ],
   "source": [
    "# download the vader lexicon for sentiment analysis\n",
    "nltk.download('vader_lexicon')"
   ],
   "metadata": {
    "collapsed": false,
    "ExecuteTime": {
     "end_time": "2023-05-27T21:51:15.804944Z",
     "start_time": "2023-05-27T21:51:14.991608900Z"
    }
   }
  },
  {
   "cell_type": "code",
   "execution_count": 3,
   "outputs": [],
   "source": [
    "# Initialize the sentiment intensity analyzer\n",
    "sia = SentimentIntensityAnalyzer()"
   ],
   "metadata": {
    "collapsed": false,
    "ExecuteTime": {
     "end_time": "2023-05-27T21:51:49.743458700Z",
     "start_time": "2023-05-27T21:51:49.717509100Z"
    }
   }
  },
  {
   "cell_type": "code",
   "execution_count": 4,
   "outputs": [],
   "source": [
    "# load twitter_dataset\n",
    "import pandas as pd\n",
    "\n",
    "tweets = pd.read_csv('twitter_dataset.csv')"
   ],
   "metadata": {
    "collapsed": false,
    "ExecuteTime": {
     "end_time": "2023-05-27T21:54:11.232615200Z",
     "start_time": "2023-05-27T21:54:10.865840800Z"
    }
   }
  },
  {
   "cell_type": "code",
   "execution_count": 6,
   "outputs": [],
   "source": [
    "# perform sentiment analysis on the tweets\n",
    "sentiments = []\n",
    "\n",
    "for tweet in tweets['Text']:\n",
    "    sentiment = sia.polarity_scores(tweet)\n",
    "    sentiments.append(sentiment)"
   ],
   "metadata": {
    "collapsed": false,
    "ExecuteTime": {
     "end_time": "2023-05-27T21:56:21.770681800Z",
     "start_time": "2023-05-27T21:56:18.924549400Z"
    }
   }
  },
  {
   "cell_type": "code",
   "execution_count": 9,
   "outputs": [],
   "source": [
    "# analyze the sentiment for each tweet\n",
    "positive_count = sum(1 for sentiment in sentiments if sentiment['compound'] > 0)\n",
    "negative_count = sum(1 for sentiment in sentiments if sentiment['compound'] < 0)\n",
    "neutral_count = sum(1 for sentiment in sentiments if sentiment['compound'] == 0)"
   ],
   "metadata": {
    "collapsed": false,
    "ExecuteTime": {
     "end_time": "2023-05-27T22:02:56.792097900Z",
     "start_time": "2023-05-27T22:02:56.774896400Z"
    }
   }
  },
  {
   "cell_type": "code",
   "execution_count": 10,
   "outputs": [
    {
     "name": "stdout",
     "output_type": "stream",
     "text": [
      "Positive tweets:  8005\n",
      "Negitive tweets:  1789\n",
      "Neutral tweets:  206\n"
     ]
    }
   ],
   "source": [
    "# print the results\n",
    "print(\"Positive tweets: \", positive_count)\n",
    "print(\"Negitive tweets: \", negative_count)\n",
    "print(\"Neutral tweets: \", neutral_count)"
   ],
   "metadata": {
    "collapsed": false,
    "ExecuteTime": {
     "end_time": "2023-05-27T22:02:57.411633Z",
     "start_time": "2023-05-27T22:02:57.403114400Z"
    }
   }
  },
  {
   "cell_type": "code",
   "execution_count": 12,
   "outputs": [
    {
     "data": {
      "text/plain": "<Figure size 800x600 with 1 Axes>",
      "image/png": "[encoded data removed]"
     },
     "metadata": {},
     "output_type": "display_data"
    },
    {
     "name": "stdout",
     "output_type": "stream",
     "text": [
      "Positive tweets:\n",
      "Thought part piece several college pick defense. Body behavior group reach. Worker blood unit choice investment common actually.\n",
      "Success message stuff attention ten response voice past. Later at establish budget alone.\n",
      "---\n",
      "Miss we certainly activity majority number.\n",
      "Onto kind apply set charge friend check. Less party where.\n",
      "Yard team seven hope. House ok deep where lay wear bit. Push could treat turn south.\n",
      "---\n",
      "Model citizen medical. Several establish benefit join office. Piece range arrive market guy campaign.\n",
      "Understand little six animal. Little develop education the him mouth pretty program.\n",
      "General write our decade. Sense wife us actually yes.\n",
      "---\n",
      "Scene Congress treat owner. Sell media activity wall smile.\n",
      "Sound agency such answer compare second compare. Partner live man later.\n",
      "---\n",
      "Miss partner ago development throughout account. Question result reflect simply financial plan. Wind summer each where these throughout sing.\n",
      "Until treat series sure. Each identify nation.\n",
      "Task ready bank notice value. Ready form size summer happy. See large edge as reflect.\n",
      "---\n",
      "Negative tweets:\n",
      "Sell detail however argue. Area difficult investment growth every air near. Individual trade anything customer mother prevent glass. See second take task threat others.\n",
      "Would step teacher fine music against especially. Attack citizen true. Surface home hand talk open trial.\n",
      "---\n",
      "Training star them stuff catch. During poor a find sing material leave.\n",
      "Case left return late around side. Across strong shake suddenly space.\n",
      "During effect see media actually power.\n",
      "---\n",
      "Home report see brother science site see. Simply land full able. Begin wall our stage.\n",
      "Knowledge analysis girl summer.\n",
      "With maintain maintain son decision my. Price month individual final. Cold crime own lead figure then.\n",
      "---\n",
      "Eat list project scene street fish. Heavy difficult order ever. Mrs under knowledge others.\n",
      "Group if deal wear. Person job short rest.\n",
      "Few increase age themselves. Those into only out wait fast anything them.\n",
      "---\n",
      "Discover measure eye perhaps animal only participant. Mind piece really thus each how. Land task his.\n",
      "Act service scene lead summer. Through half party list total. In assume everything doctor let along poor speech.\n",
      "Although set suffer pretty out throw.\n",
      "---\n",
      "Neutral tweets:\n",
      "Every impact him stand six let. Staff near evening hot lawyer particularly choice particularly. Serve voice music.\n",
      "Parent job rule edge rather. Interesting budget while need. Carry police total task practice lose organization.\n",
      "---\n",
      "Mrs alone report. Top general property around.\n",
      "White he amount theory admit reach movie. Until crime window chair reason staff. Story life third hard improve goal situation eight.\n",
      "Present offer old participant. Bar number and walk we human other morning.\n",
      "---\n",
      "Foreign let occur soon simply sort cell. Become option region parent per. Green apply this week.\n",
      "Life consumer short man wide. When business teach. Near enter require computer.\n",
      "---\n",
      "Song move than. Add issue five government national seem.\n",
      "Back provide daughter police. News anyone keep focus history continue individual.\n",
      "---\n",
      "Those senior whom product wonder gas. His them commercial almost seven.\n",
      "Fly candidate cup wear finish manage.\n",
      "---\n"
     ]
    }
   ],
   "source": [
    "import random\n",
    "import matplotlib.pyplot as plt\n",
    "\n",
    "# Visualize sentiment distribution\n",
    "labels = ['Positive', 'Negative', 'Neutral']\n",
    "counts = [positive_count, negative_count, neutral_count]\n",
    "\n",
    "plt.figure(figsize=(8, 6))\n",
    "plt.bar(labels, counts)\n",
    "plt.xlabel('Sentiment')\n",
    "plt.ylabel('Count')\n",
    "plt.title('Sentiment Distribution')\n",
    "plt.show()\n",
    "\n",
    "# Display sample tweets\n",
    "sample_size = 5  # Number of sample tweets to display per category\n",
    "\n",
    "positive_tweets = random.sample([tweet for tweet, sentiment in zip(tweets['Text'], sentiments) if sentiment['compound'] > 0], sample_size)\n",
    "negative_tweets = random.sample([tweet for tweet, sentiment in zip(tweets['Text'], sentiments) if sentiment['compound'] < 0], sample_size)\n",
    "neutral_tweets = random.sample([tweet for tweet, sentiment in zip(tweets['Text'], sentiments) if sentiment['compound'] == 0], sample_size)\n",
    "\n",
    "print(\"Positive tweets:\")\n",
    "for tweet in positive_tweets:\n",
    "    print(tweet)\n",
    "    print('---')\n",
    "\n",
    "print(\"Negative tweets:\")\n",
    "for tweet in negative_tweets:\n",
    "    print(tweet)\n",
    "    print('---')\n",
    "\n",
    "print(\"Neutral tweets:\")\n",
    "for tweet in neutral_tweets:\n",
    "    print(tweet)\n",
    "    print('---')\n"
   ],
   "metadata": {
    "collapsed": false,
    "ExecuteTime": {
     "end_time": "2023-05-27T22:03:26.778446400Z",
     "start_time": "2023-05-27T22:03:26.685656300Z"
    }
   }
  },
  {
   "cell_type": "code",
   "execution_count": null,
   "outputs": [],
   "source": [],
   "metadata": {
    "collapsed": false
   }
  }
 ],
 "metadata": {
  "kernelspec": {
   "display_name": "Python 3",
   "language": "python",
   "name": "python3"
  },
  "language_info": {
   "codemirror_mode": {
    "name": "ipython",
    "version": 2
   },
   "file_extension": ".py",
   "mimetype": "text/x-python",
   "name": "python",
   "nbconvert_exporter": "python",
   "pygments_lexer": "ipython2",
   "version": "2.7.6"
  }
 },
 "nbformat": 4,
 "nbformat_minor": 0
}
